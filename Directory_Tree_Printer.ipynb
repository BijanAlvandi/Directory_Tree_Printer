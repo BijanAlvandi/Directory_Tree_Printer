{
 "cells": [
  {
   "metadata": {},
   "cell_type": "markdown",
   "source": [
    "# os.walk()\n",
    "### Returns:\n",
    "#### For each directory it visits, it yields a 3-tuple:\n",
    "\n",
    "##### dirpath: The current path it’s in.\n",
    "\n",
    "##### dirnames: A list of the subdirectory names in dirpath.\n",
    "\n",
    "##### filenames: A list of file names in dirpath."
   ],
   "id": "96dfb35f3f8535f9"
  },
  {
   "metadata": {
    "ExecuteTime": {
     "end_time": "2025-04-28T16:40:34.134136Z",
     "start_time": "2025-04-28T16:40:34.125095Z"
    }
   },
   "cell_type": "code",
   "source": [
    "import os\n",
    "\n",
    "for dirpath, dirnames, filenames in os.walk('E:\\\\Python_projects\\\\os_projects\\\\2.Directory_Tree_Printer'):\n",
    "    print(f'Current Directory: {dirpath}')\n",
    "    print(f'Subdirectories: {dirnames}')\n",
    "    print(f'Files: {filenames}')\n"
   ],
   "id": "122ae7a6c763ca66",
   "outputs": [
    {
     "name": "stdout",
     "output_type": "stream",
     "text": [
      "Current Directory: E:\\Python_projects\\os_projects\\2.Directory_Tree_Printer\n",
      "Subdirectories: ['.idea']\n",
      "Files: ['Directory_Tree_Printer.ipynb', 'Directory_Tree_Printer.py', 'project os No. 2.jpg']\n",
      "Current Directory: E:\\Python_projects\\os_projects\\2.Directory_Tree_Printer\\.idea\n",
      "Subdirectories: ['inspectionProfiles']\n",
      "Files: ['.gitignore', '2.Directory_Tree_Printer.iml', 'misc.xml', 'modules.xml', 'vcs.xml', 'workspace.xml']\n",
      "Current Directory: E:\\Python_projects\\os_projects\\2.Directory_Tree_Printer\\.idea\\inspectionProfiles\n",
      "Subdirectories: []\n",
      "Files: ['profiles_settings.xml', 'Project_Default.xml']\n"
     ]
    }
   ],
   "execution_count": 2
  },
  {
   "metadata": {},
   "cell_type": "markdown",
   "source": [
    "# os.path.join()\n",
    "### os.path.join() is used to safely concatenate paths in a way that's cross-platform (i.e., it works correctly on Windows, macOS, Linux, etc.)."
   ],
   "id": "ddba83988842c22f"
  },
  {
   "metadata": {
    "ExecuteTime": {
     "end_time": "2025-04-28T16:49:21.865168Z",
     "start_time": "2025-04-28T16:49:21.860088Z"
    }
   },
   "cell_type": "code",
   "source": [
    "import os\n",
    "\n",
    "for dirpath, dirnames, filenames in os.walk('E:\\\\Python_projects\\\\os_projects\\\\2.Directory_Tree_Printer'):\n",
    "    for file in filenames:\n",
    "        full_file_path = os.path.join(dirpath, file)\n",
    "        print(full_file_path)"
   ],
   "id": "90480bcaa673b710",
   "outputs": [
    {
     "name": "stdout",
     "output_type": "stream",
     "text": [
      "E:\\Python_projects\\os_projects\\2.Directory_Tree_Printer\\Directory_Tree_Printer.ipynb\n",
      "E:\\Python_projects\\os_projects\\2.Directory_Tree_Printer\\Directory_Tree_Printer.py\n",
      "E:\\Python_projects\\os_projects\\2.Directory_Tree_Printer\\project os No. 2.jpg\n",
      "E:\\Python_projects\\os_projects\\2.Directory_Tree_Printer\\.idea\\.gitignore\n",
      "E:\\Python_projects\\os_projects\\2.Directory_Tree_Printer\\.idea\\2.Directory_Tree_Printer.iml\n",
      "E:\\Python_projects\\os_projects\\2.Directory_Tree_Printer\\.idea\\misc.xml\n",
      "E:\\Python_projects\\os_projects\\2.Directory_Tree_Printer\\.idea\\modules.xml\n",
      "E:\\Python_projects\\os_projects\\2.Directory_Tree_Printer\\.idea\\vcs.xml\n",
      "E:\\Python_projects\\os_projects\\2.Directory_Tree_Printer\\.idea\\workspace.xml\n",
      "E:\\Python_projects\\os_projects\\2.Directory_Tree_Printer\\.idea\\inspectionProfiles\\profiles_settings.xml\n",
      "E:\\Python_projects\\os_projects\\2.Directory_Tree_Printer\\.idea\\inspectionProfiles\\Project_Default.xml\n"
     ]
    }
   ],
   "execution_count": 4
  },
  {
   "metadata": {
    "ExecuteTime": {
     "end_time": "2025-05-05T15:08:21.239263Z",
     "start_time": "2025-05-05T15:08:21.112715Z"
    }
   },
   "cell_type": "code",
   "source": [
    "my_list = [\n",
    "    [\"apple\"],\n",
    "    [\"banana\"],\n",
    "    [\"cherry\"]\n",
    "]"
   ],
   "id": "d6faca42f514886b",
   "outputs": [],
   "execution_count": 8
  },
  {
   "metadata": {
    "ExecuteTime": {
     "end_time": "2025-05-05T15:24:38.501159Z",
     "start_time": "2025-05-05T15:24:38.494691Z"
    }
   },
   "cell_type": "code",
   "source": [
    "flat_list = [sublist[0] for sublist in my_list]\n",
    "print(flat_list)"
   ],
   "id": "4605b1afb2bca5d5",
   "outputs": [
    {
     "name": "stdout",
     "output_type": "stream",
     "text": [
      "['apple', 'banana', 'cherry']\n"
     ]
    }
   ],
   "execution_count": 16
  },
  {
   "metadata": {},
   "cell_type": "code",
   "outputs": [],
   "execution_count": null,
   "source": "",
   "id": "a11d95bd602a16b4"
  }
 ],
 "metadata": {
  "kernelspec": {
   "display_name": "Python 3",
   "language": "python",
   "name": "python3"
  },
  "language_info": {
   "codemirror_mode": {
    "name": "ipython",
    "version": 2
   },
   "file_extension": ".py",
   "mimetype": "text/x-python",
   "name": "python",
   "nbconvert_exporter": "python",
   "pygments_lexer": "ipython2",
   "version": "2.7.6"
  }
 },
 "nbformat": 4,
 "nbformat_minor": 5
}
