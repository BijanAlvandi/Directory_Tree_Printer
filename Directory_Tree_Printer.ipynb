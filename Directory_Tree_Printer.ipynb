{
 "cells": [
  {
   "metadata": {},
   "cell_type": "markdown",
   "source": [
    "# os.walk()\n",
    "### Returns:\n",
    "#### For each directory it visits, it yields a 3-tuple:\n",
    "\n",
    "##### dirpath: The current path it’s in.\n",
    "\n",
    "##### dirnames: A list of the subdirectory names in dirpath.\n",
    "\n",
    "##### filenames: A list of file names in dirpath."
   ],
   "id": "96dfb35f3f8535f9"
  },
  {
   "metadata": {
    "ExecuteTime": {
     "end_time": "2025-05-14T06:59:07.647191Z",
     "start_time": "2025-05-14T06:59:07.631575Z"
    }
   },
   "cell_type": "code",
   "source": [
    "import os\n",
    "\n",
    "for dirpath, dirnames, filenames in os.walk('E:\\\\Python_projects\\\\os_projects\\\\2.Directory_Tree_Printer'):\n",
    "    print(f'Current Directory: {dirpath}')\n",
    "    print(f'Subdirectories: {dirnames}')\n",
    "    print(f'Files: {filenames}')\n"
   ],
   "id": "122ae7a6c763ca66",
   "outputs": [
    {
     "name": "stdout",
     "output_type": "stream",
     "text": [
      "Current Directory: E:\\Python_projects\\os_projects\\2.Directory_Tree_Printer\n",
      "Subdirectories: ['.git', '.idea']\n",
      "Files: ['.gitignore', 'Directory_Tree_Printer.ipynb', 'Directory_Tree_Printer.py', 'README.md']\n",
      "Current Directory: E:\\Python_projects\\os_projects\\2.Directory_Tree_Printer\\.git\n",
      "Subdirectories: ['hooks', 'info', 'logs', 'objects', 'refs']\n",
      "Files: ['COMMIT_EDITMSG', 'config', 'description', 'FETCH_HEAD', 'HEAD', 'index', 'ORIG_HEAD']\n",
      "Current Directory: E:\\Python_projects\\os_projects\\2.Directory_Tree_Printer\\.git\\hooks\n",
      "Subdirectories: []\n",
      "Files: ['applypatch-msg.sample', 'commit-msg.sample', 'fsmonitor-watchman.sample', 'post-update.sample', 'pre-applypatch.sample', 'pre-commit.sample', 'pre-merge-commit.sample', 'pre-push.sample', 'pre-rebase.sample', 'pre-receive.sample', 'prepare-commit-msg.sample', 'push-to-checkout.sample', 'sendemail-validate.sample', 'update.sample']\n",
      "Current Directory: E:\\Python_projects\\os_projects\\2.Directory_Tree_Printer\\.git\\info\n",
      "Subdirectories: []\n",
      "Files: ['exclude']\n",
      "Current Directory: E:\\Python_projects\\os_projects\\2.Directory_Tree_Printer\\.git\\logs\n",
      "Subdirectories: ['refs']\n",
      "Files: ['HEAD']\n",
      "Current Directory: E:\\Python_projects\\os_projects\\2.Directory_Tree_Printer\\.git\\logs\\refs\n",
      "Subdirectories: ['heads', 'remotes']\n",
      "Files: []\n",
      "Current Directory: E:\\Python_projects\\os_projects\\2.Directory_Tree_Printer\\.git\\logs\\refs\\heads\n",
      "Subdirectories: []\n",
      "Files: ['main']\n",
      "Current Directory: E:\\Python_projects\\os_projects\\2.Directory_Tree_Printer\\.git\\logs\\refs\\remotes\n",
      "Subdirectories: ['origin']\n",
      "Files: []\n",
      "Current Directory: E:\\Python_projects\\os_projects\\2.Directory_Tree_Printer\\.git\\logs\\refs\\remotes\\origin\n",
      "Subdirectories: []\n",
      "Files: ['main']\n",
      "Current Directory: E:\\Python_projects\\os_projects\\2.Directory_Tree_Printer\\.git\\objects\n",
      "Subdirectories: ['18', '25', '27', '35', '61', '62', '6b', '81', '91', 'b3', 'c3', 'c6', 'f5', 'info', 'pack']\n",
      "Files: []\n",
      "Current Directory: E:\\Python_projects\\os_projects\\2.Directory_Tree_Printer\\.git\\objects\\18\n",
      "Subdirectories: []\n",
      "Files: ['72af4936835a0605b96464aa96385e7edcfca3']\n",
      "Current Directory: E:\\Python_projects\\os_projects\\2.Directory_Tree_Printer\\.git\\objects\\25\n",
      "Subdirectories: []\n",
      "Files: ['75ffd4759ce26f04cf5866c8c0913a253a3cb2']\n",
      "Current Directory: E:\\Python_projects\\os_projects\\2.Directory_Tree_Printer\\.git\\objects\\27\n",
      "Subdirectories: []\n",
      "Files: ['4efa7a7edfe1a70c2b5e21395f7b9ac27a2659']\n",
      "Current Directory: E:\\Python_projects\\os_projects\\2.Directory_Tree_Printer\\.git\\objects\\35\n",
      "Subdirectories: []\n",
      "Files: ['a467d0314b7eccbbf1d7ecd2e192f1942b8160']\n",
      "Current Directory: E:\\Python_projects\\os_projects\\2.Directory_Tree_Printer\\.git\\objects\\61\n",
      "Subdirectories: []\n",
      "Files: ['846f813d47aed532534abd2de4fdec48af3873']\n",
      "Current Directory: E:\\Python_projects\\os_projects\\2.Directory_Tree_Printer\\.git\\objects\\62\n",
      "Subdirectories: []\n",
      "Files: ['349770f7b1af1c8c53bf2b7df7ca28d30a9023']\n",
      "Current Directory: E:\\Python_projects\\os_projects\\2.Directory_Tree_Printer\\.git\\objects\\6b\n",
      "Subdirectories: []\n",
      "Files: ['df6e84b64e4a55f8e8976dd80fa0b2cbfabec1']\n",
      "Current Directory: E:\\Python_projects\\os_projects\\2.Directory_Tree_Printer\\.git\\objects\\81\n",
      "Subdirectories: []\n",
      "Files: ['7f3e51739520ee67e25f51794f276d8a01bb8c']\n",
      "Current Directory: E:\\Python_projects\\os_projects\\2.Directory_Tree_Printer\\.git\\objects\\91\n",
      "Subdirectories: []\n",
      "Files: ['06f75883fcd941c4fe1cdbbe1b630f7bf9104f']\n",
      "Current Directory: E:\\Python_projects\\os_projects\\2.Directory_Tree_Printer\\.git\\objects\\b3\n",
      "Subdirectories: []\n",
      "Files: ['bdc071e023f4a6a918212f6c13db234cfaf06f']\n",
      "Current Directory: E:\\Python_projects\\os_projects\\2.Directory_Tree_Printer\\.git\\objects\\c3\n",
      "Subdirectories: []\n",
      "Files: ['4e44c6e3ff76f2c9d376eae81812b2b70efeda']\n",
      "Current Directory: E:\\Python_projects\\os_projects\\2.Directory_Tree_Printer\\.git\\objects\\c6\n",
      "Subdirectories: []\n",
      "Files: ['eb0b073203921a2de2bfb7fb8c6521bd1f31aa']\n",
      "Current Directory: E:\\Python_projects\\os_projects\\2.Directory_Tree_Printer\\.git\\objects\\f5\n",
      "Subdirectories: []\n",
      "Files: ['7aaa999cbdb2b78cfd4b7dde41ada7651b74b7']\n",
      "Current Directory: E:\\Python_projects\\os_projects\\2.Directory_Tree_Printer\\.git\\objects\\info\n",
      "Subdirectories: []\n",
      "Files: []\n",
      "Current Directory: E:\\Python_projects\\os_projects\\2.Directory_Tree_Printer\\.git\\objects\\pack\n",
      "Subdirectories: []\n",
      "Files: []\n",
      "Current Directory: E:\\Python_projects\\os_projects\\2.Directory_Tree_Printer\\.git\\refs\n",
      "Subdirectories: ['heads', 'remotes', 'tags']\n",
      "Files: []\n",
      "Current Directory: E:\\Python_projects\\os_projects\\2.Directory_Tree_Printer\\.git\\refs\\heads\n",
      "Subdirectories: []\n",
      "Files: ['main']\n",
      "Current Directory: E:\\Python_projects\\os_projects\\2.Directory_Tree_Printer\\.git\\refs\\remotes\n",
      "Subdirectories: ['origin']\n",
      "Files: []\n",
      "Current Directory: E:\\Python_projects\\os_projects\\2.Directory_Tree_Printer\\.git\\refs\\remotes\\origin\n",
      "Subdirectories: []\n",
      "Files: ['main']\n",
      "Current Directory: E:\\Python_projects\\os_projects\\2.Directory_Tree_Printer\\.git\\refs\\tags\n",
      "Subdirectories: []\n",
      "Files: []\n",
      "Current Directory: E:\\Python_projects\\os_projects\\2.Directory_Tree_Printer\\.idea\n",
      "Subdirectories: ['inspectionProfiles']\n",
      "Files: ['.gitignore', '2.Directory_Tree_Printer.iml', 'misc.xml', 'modules.xml', 'vcs.xml', 'workspace.xml']\n",
      "Current Directory: E:\\Python_projects\\os_projects\\2.Directory_Tree_Printer\\.idea\\inspectionProfiles\n",
      "Subdirectories: []\n",
      "Files: ['profiles_settings.xml', 'Project_Default.xml']\n"
     ]
    }
   ],
   "execution_count": 5
  },
  {
   "metadata": {},
   "cell_type": "markdown",
   "source": [
    "# os.path.join()\n",
    "### os.path.join() is used to safely concatenate paths in a way that's cross-platform (i.e., it works correctly on Windows, macOS, Linux, etc.)."
   ],
   "id": "ddba83988842c22f"
  },
  {
   "metadata": {
    "ExecuteTime": {
     "end_time": "2025-04-28T16:49:21.865168Z",
     "start_time": "2025-04-28T16:49:21.860088Z"
    }
   },
   "cell_type": "code",
   "source": [
    "import os\n",
    "\n",
    "for dirpath, dirnames, filenames in os.walk('E:\\\\Python_projects\\\\os_projects\\\\2.Directory_Tree_Printer'):\n",
    "    for file in filenames:\n",
    "        full_file_path = os.path.join(dirpath, file)\n",
    "        print(full_file_path)"
   ],
   "id": "90480bcaa673b710",
   "outputs": [
    {
     "name": "stdout",
     "output_type": "stream",
     "text": [
      "E:\\Python_projects\\os_projects\\2.Directory_Tree_Printer\\Directory_Tree_Printer.ipynb\n",
      "E:\\Python_projects\\os_projects\\2.Directory_Tree_Printer\\Directory_Tree_Printer.py\n",
      "E:\\Python_projects\\os_projects\\2.Directory_Tree_Printer\\project os No. 2.jpg\n",
      "E:\\Python_projects\\os_projects\\2.Directory_Tree_Printer\\.idea\\.gitignore\n",
      "E:\\Python_projects\\os_projects\\2.Directory_Tree_Printer\\.idea\\2.Directory_Tree_Printer.iml\n",
      "E:\\Python_projects\\os_projects\\2.Directory_Tree_Printer\\.idea\\misc.xml\n",
      "E:\\Python_projects\\os_projects\\2.Directory_Tree_Printer\\.idea\\modules.xml\n",
      "E:\\Python_projects\\os_projects\\2.Directory_Tree_Printer\\.idea\\vcs.xml\n",
      "E:\\Python_projects\\os_projects\\2.Directory_Tree_Printer\\.idea\\workspace.xml\n",
      "E:\\Python_projects\\os_projects\\2.Directory_Tree_Printer\\.idea\\inspectionProfiles\\profiles_settings.xml\n",
      "E:\\Python_projects\\os_projects\\2.Directory_Tree_Printer\\.idea\\inspectionProfiles\\Project_Default.xml\n"
     ]
    }
   ],
   "execution_count": 4
  },
  {
   "metadata": {
    "ExecuteTime": {
     "end_time": "2025-05-05T15:08:21.239263Z",
     "start_time": "2025-05-05T15:08:21.112715Z"
    }
   },
   "cell_type": "code",
   "source": [
    "my_list = [\n",
    "    [\"apple\"],\n",
    "    [\"banana\"],\n",
    "    [\"cherry\"]\n",
    "]"
   ],
   "id": "d6faca42f514886b",
   "outputs": [],
   "execution_count": 8
  },
  {
   "metadata": {
    "ExecuteTime": {
     "end_time": "2025-05-05T15:24:38.501159Z",
     "start_time": "2025-05-05T15:24:38.494691Z"
    }
   },
   "cell_type": "code",
   "source": [
    "flat_list = [sublist[0] for sublist in my_list]\n",
    "print(flat_list)"
   ],
   "id": "4605b1afb2bca5d5",
   "outputs": [
    {
     "name": "stdout",
     "output_type": "stream",
     "text": [
      "['apple', 'banana', 'cherry']\n"
     ]
    }
   ],
   "execution_count": 16
  },
  {
   "metadata": {
    "ExecuteTime": {
     "end_time": "2025-05-14T07:44:52.223456Z",
     "start_time": "2025-05-14T07:44:52.217703Z"
    }
   },
   "cell_type": "code",
   "source": "user_directory = \"E:\\\\Python_projects\\\\os_projects\\\\1.Simple_file_lister\"",
   "id": "a11d95bd602a16b4",
   "outputs": [],
   "execution_count": 29
  },
  {
   "metadata": {
    "ExecuteTime": {
     "end_time": "2025-05-14T07:44:52.986448Z",
     "start_time": "2025-05-14T07:44:52.980950Z"
    }
   },
   "cell_type": "code",
   "source": [
    "directory_list = []\n",
    "file_list = []\n",
    "directory_dict = {}"
   ],
   "id": "dfcbcc6892f580a8",
   "outputs": [],
   "execution_count": 30
  },
  {
   "metadata": {
    "ExecuteTime": {
     "end_time": "2025-05-14T07:44:53.674049Z",
     "start_time": "2025-05-14T07:44:53.667001Z"
    }
   },
   "cell_type": "code",
   "source": "print(directory_dict)",
   "id": "d00a6ff511958cae",
   "outputs": [
    {
     "name": "stdout",
     "output_type": "stream",
     "text": [
      "{}\n"
     ]
    }
   ],
   "execution_count": 31
  },
  {
   "metadata": {
    "ExecuteTime": {
     "end_time": "2025-05-14T07:45:45.045385Z",
     "start_time": "2025-05-14T07:45:45.032871Z"
    }
   },
   "cell_type": "code",
   "source": [
    "for dirpath, dirnames, filenames in os.walk(user_directory):\n",
    "    directory_dict[dirpath] = sorted(filenames)\n",
    "\n",
    "print(directory_dict)"
   ],
   "id": "d244588672c902c2",
   "outputs": [
    {
     "name": "stdout",
     "output_type": "stream",
     "text": [
      "{'E:\\\\Python_projects\\\\os_projects\\\\1.Simple_file_lister': ['Screenshot 2025-05-05 131900.jpg', 'Simple_file-lister.py', 'Tests.ipynb', 'test_file.txt'], 'E:\\\\Python_projects\\\\os_projects\\\\1.Simple_file_lister\\\\.idea': ['.gitignore', '1Simple_file_lister.iml', 'misc.xml', 'modules.xml', 'vcs.xml', 'workspace.xml'], 'E:\\\\Python_projects\\\\os_projects\\\\1.Simple_file_lister\\\\.idea\\\\inspectionProfiles': ['Project_Default.xml', 'profiles_settings.xml'], 'E:\\\\Python_projects\\\\os_projects\\\\1.Simple_file_lister\\\\test_folder': []}\n"
     ]
    }
   ],
   "execution_count": 36
  },
  {
   "metadata": {
    "ExecuteTime": {
     "end_time": "2025-05-14T07:47:00.090368Z",
     "start_time": "2025-05-14T07:47:00.080612Z"
    }
   },
   "cell_type": "code",
   "source": "directory_dict.values()",
   "id": "edaa3cf6f80501df",
   "outputs": [
    {
     "data": {
      "text/plain": [
       "dict_values([['Screenshot 2025-05-05 131900.jpg', 'Simple_file-lister.py', 'Tests.ipynb', 'test_file.txt'], ['.gitignore', '1Simple_file_lister.iml', 'misc.xml', 'modules.xml', 'vcs.xml', 'workspace.xml'], ['Project_Default.xml', 'profiles_settings.xml'], []])"
      ]
     },
     "execution_count": 38,
     "metadata": {},
     "output_type": "execute_result"
    }
   ],
   "execution_count": 38
  },
  {
   "metadata": {
    "ExecuteTime": {
     "end_time": "2025-05-14T08:04:49.163610Z",
     "start_time": "2025-05-14T08:04:49.157343Z"
    }
   },
   "cell_type": "code",
   "source": "my_list = [['c', 'a', 'b'], ['z', 'x'], ['m'], []]",
   "id": "591b3060a0e3d63c",
   "outputs": [],
   "execution_count": 45
  },
  {
   "metadata": {
    "ExecuteTime": {
     "end_time": "2025-05-14T08:06:21.433302Z",
     "start_time": "2025-05-14T08:06:21.416869Z"
    }
   },
   "cell_type": "code",
   "source": [
    "sorted_mylist = [sorted(sublist) for sublist in my_list]\n",
    "sorted_mylist"
   ],
   "id": "5f46bbc350eb5a7c",
   "outputs": [
    {
     "data": {
      "text/plain": [
       "[['a', 'b', 'c'], ['x', 'z'], ['m'], []]"
      ]
     },
     "execution_count": 50,
     "metadata": {},
     "output_type": "execute_result"
    }
   ],
   "execution_count": 50
  },
  {
   "metadata": {
    "ExecuteTime": {
     "end_time": "2025-05-14T08:08:00.821420Z",
     "start_time": "2025-05-14T08:08:00.811873Z"
    }
   },
   "cell_type": "code",
   "source": [
    "for dirpath, dirnames, filenames in os.walk(user_directory):\n",
    "    directory_dict[dirpath] = filenames\n",
    "\n",
    "print(directory_dict)"
   ],
   "id": "73c60418746a4597",
   "outputs": [
    {
     "name": "stdout",
     "output_type": "stream",
     "text": [
      "{'E:\\\\Python_projects\\\\os_projects\\\\1.Simple_file_lister': ['Screenshot 2025-05-05 131900.jpg', 'Simple_file-lister.py', 'Tests.ipynb', 'test_file.txt'], 'E:\\\\Python_projects\\\\os_projects\\\\1.Simple_file_lister\\\\.idea': ['.gitignore', '1Simple_file_lister.iml', 'misc.xml', 'modules.xml', 'vcs.xml', 'workspace.xml'], 'E:\\\\Python_projects\\\\os_projects\\\\1.Simple_file_lister\\\\.idea\\\\inspectionProfiles': ['profiles_settings.xml', 'Project_Default.xml'], 'E:\\\\Python_projects\\\\os_projects\\\\1.Simple_file_lister\\\\test_folder': []}\n"
     ]
    }
   ],
   "execution_count": 52
  },
  {
   "metadata": {
    "ExecuteTime": {
     "end_time": "2025-05-14T08:11:56.515469Z",
     "start_time": "2025-05-14T08:11:56.504546Z"
    }
   },
   "cell_type": "code",
   "source": [
    "for dirpath, dirnames, filenames in os.walk(user_directory):\n",
    "    directory_dict[dirpath] = filenames\n",
    "    file_list.append(filenames)\n"
   ],
   "id": "bd65dd1a3708ff6e",
   "outputs": [
    {
     "data": {
      "text/plain": [
       "[['Screenshot 2025-05-05 131900.jpg',\n",
       "  'Simple_file-lister.py',\n",
       "  'Tests.ipynb',\n",
       "  'test_file.txt'],\n",
       " ['.gitignore',\n",
       "  '1Simple_file_lister.iml',\n",
       "  'misc.xml',\n",
       "  'modules.xml',\n",
       "  'vcs.xml',\n",
       "  'workspace.xml'],\n",
       " ['profiles_settings.xml', 'Project_Default.xml'],\n",
       " [],\n",
       " ['Screenshot 2025-05-05 131900.jpg',\n",
       "  'Simple_file-lister.py',\n",
       "  'Tests.ipynb',\n",
       "  'test_file.txt'],\n",
       " ['.gitignore',\n",
       "  '1Simple_file_lister.iml',\n",
       "  'misc.xml',\n",
       "  'modules.xml',\n",
       "  'vcs.xml',\n",
       "  'workspace.xml'],\n",
       " ['profiles_settings.xml', 'Project_Default.xml'],\n",
       " []]"
      ]
     },
     "execution_count": 55,
     "metadata": {},
     "output_type": "execute_result"
    }
   ],
   "execution_count": 55
  },
  {
   "metadata": {
    "ExecuteTime": {
     "end_time": "2025-05-14T08:14:16.415192Z",
     "start_time": "2025-05-14T08:14:16.409907Z"
    }
   },
   "cell_type": "code",
   "source": "",
   "id": "b6593cba3108ff36",
   "outputs": [],
   "execution_count": null
  },
  {
   "metadata": {},
   "cell_type": "code",
   "outputs": [],
   "execution_count": null,
   "source": [
    "\n",
    "for dirpath, dirnames, filenames in os.walk(user_directory):\n",
    "    directory_dict[dirpath] = filenames\n",
    "    file_list.append(filenames)"
   ],
   "id": "6ee7603410d58698"
  }
 ],
 "metadata": {
  "kernelspec": {
   "display_name": "Python 3",
   "language": "python",
   "name": "python3"
  },
  "language_info": {
   "codemirror_mode": {
    "name": "ipython",
    "version": 2
   },
   "file_extension": ".py",
   "mimetype": "text/x-python",
   "name": "python",
   "nbconvert_exporter": "python",
   "pygments_lexer": "ipython2",
   "version": "2.7.6"
  }
 },
 "nbformat": 4,
 "nbformat_minor": 5
}
